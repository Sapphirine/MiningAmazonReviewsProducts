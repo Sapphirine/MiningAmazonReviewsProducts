{
 "cells": [
  {
   "cell_type": "code",
   "execution_count": null,
   "metadata": {},
   "outputs": [],
   "source": [
    "import pandas as pd\n",
    "import gzip\n",
    "\n",
    "def parse(path):\n",
    "  g = gzip.open(path, 'rb')\n",
    "  for l in g:\n",
    "    yield eval(l)\n",
    "\n",
    "def getDF(path):\n",
    "  i = 0\n",
    "  df = {}\n",
    "  for d in parse(path):\n",
    "    df[i] = d\n",
    "    i += 1\n",
    "  return pd.DataFrame.from_dict(df, orient='index')\n",
    "\n",
    "path = \"/home/animesh/big_data/project/raw_data/home.json.gz\"\n",
    "df = getDF(path)\n",
    "\n",
    "df.head()"
   ]
  },
  {
   "cell_type": "code",
   "execution_count": null,
   "metadata": {},
   "outputs": [],
   "source": [
    "del df['reviewerID']\n",
    "del df['asin']\n",
    "del df['reviewerName']\n",
    "del df['helpful']\n",
    "del df['unixReviewTime']\n",
    "del df['overall']\n",
    "del df['reviewTime']"
   ]
  },
  {
   "cell_type": "code",
   "execution_count": null,
   "metadata": {},
   "outputs": [],
   "source": [
    "df.head()"
   ]
  },
  {
   "cell_type": "code",
   "execution_count": null,
   "metadata": {},
   "outputs": [],
   "source": [
    "print(pd.isnull(df).sum())\n",
    "\n",
    "print(len(df.index))"
   ]
  },
  {
   "cell_type": "code",
   "execution_count": null,
   "metadata": {},
   "outputs": [],
   "source": [
    "data = df.to_dict()\n",
    "\n",
    "print(len(data))\n",
    "print(len(data[\"reviewText\"]))\n",
    "print(len(data[\"summary\"]))"
   ]
  },
  {
   "cell_type": "code",
   "execution_count": null,
   "metadata": {},
   "outputs": [],
   "source": [
    "import pickle\n",
    "pickle.dump( data, open( \"office_products_reviews.p\", \"wb\" ) )"
   ]
  },
  {
   "cell_type": "code",
   "execution_count": 3,
   "metadata": {},
   "outputs": [
    {
     "name": "stdout",
     "output_type": "stream",
     "text": [
      "2\n",
      "1243186\n",
      "1243186\n",
      "This is an awesome resource to go with the TE of the same. I am still trying to figure out how to use ALL the awesome information included in this CD!\n",
      "Great Resource to accompany TE\n"
     ]
    }
   ],
   "source": [
    "import pickle\n",
    "data1 = pickle.load( open( \"office_products_reviews.p\", \"rb\" ) )\n",
    "\n",
    "print(len(data1))\n",
    "print(len(data1[\"reviewText\"]))\n",
    "print(len(data1[\"summary\"]))\n",
    "\n",
    "#print(data[\"reviewText\"][0])\n",
    "#print(data1[\"reviewText\"][0])\n",
    "print(data1[\"reviewText\"][0])\n",
    "print(data1[\"summary\"][0])"
   ]
  },
  {
   "cell_type": "code",
   "execution_count": 4,
   "metadata": {},
   "outputs": [],
   "source": [
    "for i in xrange(0,len(data1[\"reviewText\"])):\n",
    "    temp = data1[\"reviewText\"][i].split()\n",
    "    if len(temp)>30:\n",
    "        data1[\"reviewText\"][i] = ' '.join(temp[:30])"
   ]
  },
  {
   "cell_type": "code",
   "execution_count": 5,
   "metadata": {},
   "outputs": [
    {
     "data": {
      "text/plain": [
       "'as described'"
      ]
     },
     "execution_count": 5,
     "metadata": {},
     "output_type": "execute_result"
    }
   ],
   "source": [
    "data1[\"reviewText\"][5]"
   ]
  },
  {
   "cell_type": "code",
   "execution_count": 6,
   "metadata": {},
   "outputs": [
    {
     "name": "stdout",
     "output_type": "stream",
     "text": [
      "1297156\n",
      "No sugar, no GMO garbage, no fillers that come with store bought extracts. This stuff is just amazing. I use it in everything from baking to cooking and even as suggested in my coffee which is saying a lot because I normally do not care for flavored coffee! You cannot go wrong with this. I've ordered from this merchant before, customer satisfaction is their priority and service was quick, shipped right out with tracking even! I'll be buying from GLS Goods again! I won't use any other vanilla!\n",
      "Best vanilla I've ever had\n"
     ]
    }
   ],
   "source": [
    "data2 = pickle.load( open( \"food_reviews.p\", \"rb\" ) )\n",
    "\n",
    "print(len(data2[\"reviewText\"]))\n",
    "\n",
    "print(data2[\"reviewText\"][0])\n",
    "print(data2[\"summary\"][0])"
   ]
  },
  {
   "cell_type": "code",
   "execution_count": 7,
   "metadata": {},
   "outputs": [],
   "source": [
    "for i in xrange(0,len(data2[\"reviewText\"])):\n",
    "    temp = data2[\"reviewText\"][i].split()\n",
    "    if len(temp)>30:\n",
    "        data2[\"reviewText\"][i] = ' '.join(temp[:30])"
   ]
  },
  {
   "cell_type": "code",
   "execution_count": 8,
   "metadata": {},
   "outputs": [
    {
     "data": {
      "text/plain": [
       "'No sugar, no GMO garbage, no fillers that come with store bought extracts. This stuff is just amazing. I use it in everything from baking to cooking and even as'"
      ]
     },
     "execution_count": 8,
     "metadata": {},
     "output_type": "execute_result"
    }
   ],
   "source": [
    "data2[\"reviewText\"][0]"
   ]
  },
  {
   "cell_type": "code",
   "execution_count": null,
   "metadata": {},
   "outputs": [],
   "source": [
    "with open(\"review.txt\", 'w') as f:\n",
    "    for key, value in data1[\"reviewText\"].items():\n",
    "        f.write('%s\\n' % (value))"
   ]
  },
  {
   "cell_type": "code",
   "execution_count": null,
   "metadata": {},
   "outputs": [],
   "source": [
    "with open(\"review.txt\", 'a') as f:\n",
    "    for key, value in data2[\"reviewText\"].items():\n",
    "        f.write('%s\\n' % (value))"
   ]
  },
  {
   "cell_type": "code",
   "execution_count": null,
   "metadata": {},
   "outputs": [],
   "source": [
    "with open(\"summary.txt\", 'w') as f:\n",
    "    for key, value in data1[\"summary\"].items():\n",
    "        f.write('%s\\n' % (value))"
   ]
  },
  {
   "cell_type": "code",
   "execution_count": null,
   "metadata": {},
   "outputs": [],
   "source": [
    "with open(\"summary.txt\", 'a') as f:\n",
    "    for key, value in data2[\"summary\"].items():\n",
    "        f.write('%s\\n' % (value))"
   ]
  },
  {
   "cell_type": "code",
   "execution_count": 9,
   "metadata": {},
   "outputs": [],
   "source": [
    "with open(\"review1.txt\", 'w') as f:\n",
    "    for key, value in data1[\"reviewText\"].items():\n",
    "        f.write('%s\\n' % (value))\n",
    "        \n",
    "with open(\"review2.txt\", 'w') as f:\n",
    "    for key, value in data2[\"reviewText\"].items():\n",
    "        f.write('%s\\n' % (value))"
   ]
  },
  {
   "cell_type": "code",
   "execution_count": null,
   "metadata": {},
   "outputs": [],
   "source": []
  }
 ],
 "metadata": {
  "kernelspec": {
   "display_name": "Python 2",
   "language": "python",
   "name": "python2"
  },
  "language_info": {
   "codemirror_mode": {
    "name": "ipython",
    "version": 2
   },
   "file_extension": ".py",
   "mimetype": "text/x-python",
   "name": "python",
   "nbconvert_exporter": "python",
   "pygments_lexer": "ipython2",
   "version": "2.7.12"
  }
 },
 "nbformat": 4,
 "nbformat_minor": 2
}
