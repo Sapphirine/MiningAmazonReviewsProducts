{
 "cells": [
  {
   "cell_type": "code",
   "execution_count": null,
   "metadata": {},
   "outputs": [],
   "source": [
    "from collections import Counter\n",
    "import itertools\n",
    "from nltk.corpus import stopwords\n",
    "import numpy as np\n",
    "import matplotlib.pyplot as plt\n",
    "import pandas as pd"
   ]
  },
  {
   "cell_type": "code",
   "execution_count": null,
   "metadata": {},
   "outputs": [],
   "source": [
    "review = open(\"review.txt\",\"rb\")\n",
    "\n",
    "summary = open(\"summary.txt\",\"rb\")\n",
    "    "
   ]
  },
  {
   "cell_type": "code",
   "execution_count": null,
   "metadata": {},
   "outputs": [],
   "source": [
    "def prepare(review):\n",
    "    reviews = [q for q in review]\n",
    "    reviews = reviews[:10000]\n",
    "    for line in reviews:\n",
    "        line = line.lower()[:-1]\n",
    "        line = line.split()\n",
    "        stops = set(stopwords.words(\"english\"))\n",
    "        line = [w for w in line if not w in stops]\n",
    "        line = \" \".join(line)\n",
    "        yield line.strip().split(' ')\n",
    "        "
   ]
  },
  {
   "cell_type": "code",
   "execution_count": null,
   "metadata": {},
   "outputs": [],
   "source": [
    "review_data = prepare(review)"
   ]
  },
  {
   "cell_type": "code",
   "execution_count": null,
   "metadata": {},
   "outputs": [],
   "source": [
    "all_tokens = itertools.chain.from_iterable(review_data)\n",
    "counter = Counter(all_tokens)\n",
    "\n",
    "most_common = counter.most_common(20)"
   ]
  },
  {
   "cell_type": "code",
   "execution_count": null,
   "metadata": {},
   "outputs": [],
   "source": [
    "most_common"
   ]
  },
  {
   "cell_type": "code",
   "execution_count": 30,
   "metadata": {},
   "outputs": [],
   "source": [
    "df = pd.DataFrame(most_common, columns=['word', 'frequency'])\n",
    "df.plot(kind='bar', x='word')\n",
    "\n",
    "#plt.show()\n",
    "plt.savefig(\"histogram.pdf\")"
   ]
  },
  {
   "cell_type": "code",
   "execution_count": null,
   "metadata": {},
   "outputs": [],
   "source": []
  }
 ],
 "metadata": {
  "kernelspec": {
   "display_name": "Python 2",
   "language": "python",
   "name": "python2"
  },
  "language_info": {
   "codemirror_mode": {
    "name": "ipython",
    "version": 2
   },
   "file_extension": ".py",
   "mimetype": "text/x-python",
   "name": "python",
   "nbconvert_exporter": "python",
   "pygments_lexer": "ipython2",
   "version": "2.7.12"
  }
 },
 "nbformat": 4,
 "nbformat_minor": 2
}
