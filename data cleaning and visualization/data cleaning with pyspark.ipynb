{
 "cells": [
  {
   "cell_type": "code",
   "execution_count": 1,
   "metadata": {},
   "outputs": [
    {
     "data": {
      "text/plain": [
       "gzip.GzipFile"
      ]
     },
     "execution_count": 1,
     "metadata": {},
     "output_type": "execute_result"
    }
   ],
   "source": [
    "import gzip\n",
    "import pandas as pd\n",
    "from pyspark.sql import SQLContext\n",
    "print sc\n"
   ]
  },
  {
   "cell_type": "code",
   "execution_count": null,
   "metadata": {},
   "outputs": [],
   "source": [
    "def parse(path):\n",
    "  g = gzip.open(path, 'rb')\n",
    "  for l in g:\n",
    "    yield eval(l)\n",
    "\n",
    "def getDF(path):\n",
    "  i = 0\n",
    "  df = {}\n",
    "  for d in parse(path):\n",
    "    df[i] = d\n",
    "    i += 1\n",
    "  return pd.DataFrame.from_dict(df, orient='index')\n",
    "\n",
    "path = \"/home/animesh/big_data/project/raw_data/home.json.gz\"\n",
    "df = getDF(path)\n",
    "\n",
    "df2 = SQLContext(sc)\n",
    "df2.createDataFrame(df).show()"
   ]
  },
  {
   "cell_type": "code",
   "execution_count": null,
   "metadata": {},
   "outputs": [],
   "source": [
    "df2.drop('reviewerID').columns\n",
    "df2.drop('asin').columns\n",
    "df2.drop('reviewerName').columns\n",
    "df2.drop('helpful').columns\n",
    "df2.drop('unixReviewTime').columns\n",
    "df2.drop('overall').columns\n",
    "df2.drop('reviewTime').columns"
   ]
  },
  {
   "cell_type": "code",
   "execution_count": null,
   "metadata": {},
   "outputs": [],
   "source": [
    "df = df2.toPandas()"
   ]
  },
  {
   "cell_type": "code",
   "execution_count": null,
   "metadata": {},
   "outputs": [],
   "source": [
    "df.head()"
   ]
  },
  {
   "cell_type": "code",
   "execution_count": null,
   "metadata": {},
   "outputs": [],
   "source": [
    "print(pd.isnull(df).sum())\n",
    "\n",
    "print(len(df.index))\n",
    "\n",
    "data = df.to_dict()\n",
    "\n",
    "print(len(data))\n",
    "print(len(data[\"reviewText\"]))\n",
    "print(len(data[\"summary\"]))\n",
    "\n",
    "import pickle\n",
    "pickle.dump( data, open( \"office_products_reviews.p\", \"wb\" ) )\n",
    "\n",
    "import pickle\n",
    "data1 = pickle.load( open( \"office_products_reviews.p\", \"rb\" ) )\n",
    "\n",
    "print(len(data1))\n",
    "print(len(data1[\"reviewText\"]))\n",
    "print(len(data1[\"summary\"]))\n",
    "\n",
    "#print(data[\"reviewText\"][0])\n",
    "#print(data1[\"reviewText\"][0])\n",
    "print(data1[\"reviewText\"][0])\n",
    "print(data1[\"summary\"][0])\n",
    "\n",
    "for i in xrange(0,len(data1[\"reviewText\"])):\n",
    "    temp = data1[\"reviewText\"][i].split()\n",
    "    if len(temp)>30:\n",
    "        data1[\"reviewText\"][i] = ' '.join(temp[:30])\n",
    "        \n",
    "data2 = pickle.load( open( \"food_reviews.p\", \"rb\" ) )\n",
    "\n",
    "print(len(data2[\"reviewText\"]))\n",
    "\n",
    "print(data2[\"reviewText\"][0])\n",
    "print(data2[\"summary\"][0])\n",
    "\n",
    "for i in xrange(0,len(data2[\"reviewText\"])):\n",
    "    temp = data2[\"reviewText\"][i].split()\n",
    "    if len(temp)>30:\n",
    "        data2[\"reviewText\"][i] = ' '.join(temp[:30])\n",
    "        \n",
    "with open(\"review.txt\", 'w') as f:\n",
    "    for key, value in data1[\"reviewText\"].items():\n",
    "        f.write('%s\\n' % (value))\n",
    "        \n",
    "with open(\"review.txt\", 'a') as f:\n",
    "    for key, value in data2[\"reviewText\"].items():\n",
    "        f.write('%s\\n' % (value))\n",
    "        \n",
    "with open(\"summary.txt\", 'w') as f:\n",
    "    for key, value in data1[\"summary\"].items():\n",
    "        f.write('%s\\n' % (value))\n",
    "        \n",
    "with open(\"summary.txt\", 'a') as f:\n",
    "    for key, value in data2[\"summary\"].items():\n",
    "        f.write('%s\\n' % (value))\n",
    "        \n",
    "with open(\"review1.txt\", 'w') as f:\n",
    "    for key, value in data1[\"reviewText\"].items():\n",
    "        f.write('%s\\n' % (value))\n",
    "        \n",
    "with open(\"review2.txt\", 'w') as f:\n",
    "    for key, value in data2[\"reviewText\"].items():\n",
    "        f.write('%s\\n' % (value))"
   ]
  }
 ],
 "metadata": {
  "kernelspec": {
   "display_name": "Python 2",
   "language": "python",
   "name": "python2"
  },
  "language_info": {
   "codemirror_mode": {
    "name": "ipython",
    "version": 2
   },
   "file_extension": ".py",
   "mimetype": "text/x-python",
   "name": "python",
   "nbconvert_exporter": "python",
   "pygments_lexer": "ipython2",
   "version": "2.7.12"
  }
 },
 "nbformat": 4,
 "nbformat_minor": 2
}
